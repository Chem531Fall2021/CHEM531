{
 "cells": [
  {
   "cell_type": "markdown",
   "id": "4a41807c",
   "metadata": {},
   "source": [
    "# Variable"
   ]
  },
  {
   "cell_type": "code",
   "execution_count": 1,
   "id": "37e4d903",
   "metadata": {},
   "outputs": [],
   "source": [
    "x=2"
   ]
  },
  {
   "cell_type": "code",
   "execution_count": 3,
   "id": "2e5ca64d",
   "metadata": {},
   "outputs": [
    {
     "name": "stdout",
     "output_type": "stream",
     "text": [
      "Variable x = 2\n"
     ]
    }
   ],
   "source": [
    "print(\"Variable x =\", x)"
   ]
  },
  {
   "cell_type": "markdown",
   "id": "83c5802e",
   "metadata": {},
   "source": [
    "# numeric module"
   ]
  },
  {
   "cell_type": "code",
   "execution_count": 4,
   "id": "6a419eae",
   "metadata": {},
   "outputs": [],
   "source": [
    "import numpy "
   ]
  },
  {
   "cell_type": "code",
   "execution_count": 24,
   "id": "2e9cb723",
   "metadata": {},
   "outputs": [],
   "source": [
    "b=numpy.array([0, 1])"
   ]
  },
  {
   "cell_type": "code",
   "execution_count": 25,
   "id": "b8f0c882",
   "metadata": {},
   "outputs": [
    {
     "data": {
      "text/plain": [
       "array([0, 1])"
      ]
     },
     "execution_count": 25,
     "metadata": {},
     "output_type": "execute_result"
    }
   ],
   "source": [
    "b"
   ]
  },
  {
   "cell_type": "markdown",
   "id": "6eabf9de",
   "metadata": {},
   "source": [
    "# matrix"
   ]
  },
  {
   "cell_type": "code",
   "execution_count": 26,
   "id": "f1cf4aa3",
   "metadata": {},
   "outputs": [],
   "source": [
    "a=numpy.array([[1, 2], [3,4]])"
   ]
  },
  {
   "cell_type": "code",
   "execution_count": 27,
   "id": "0d927539",
   "metadata": {},
   "outputs": [
    {
     "name": "stdout",
     "output_type": "stream",
     "text": [
      "[[1 2]\n",
      " [3 4]]\n"
     ]
    }
   ],
   "source": [
    "print(a)"
   ]
  },
  {
   "cell_type": "markdown",
   "id": "1f9508e0",
   "metadata": {},
   "source": [
    "# multiply "
   ]
  },
  {
   "cell_type": "code",
   "execution_count": 33,
   "id": "68a2ef8d",
   "metadata": {},
   "outputs": [
    {
     "data": {
      "text/plain": [
       "array([2, 4])"
      ]
     },
     "execution_count": 33,
     "metadata": {},
     "output_type": "execute_result"
    }
   ],
   "source": [
    "numpy.inner(a,b.T)"
   ]
  },
  {
   "cell_type": "code",
   "execution_count": 45,
   "id": "4cf5658d",
   "metadata": {},
   "outputs": [
    {
     "data": {
      "text/plain": [
       "1"
      ]
     },
     "execution_count": 45,
     "metadata": {},
     "output_type": "execute_result"
    }
   ],
   "source": [
    "numpy.matmul(b,b.T)"
   ]
  },
  {
   "cell_type": "markdown",
   "id": "04f818e8",
   "metadata": {},
   "source": [
    "# solve linear matrix equation"
   ]
  },
  {
   "cell_type": "code",
   "execution_count": 48,
   "id": "cbed7c8a",
   "metadata": {},
   "outputs": [
    {
     "data": {
      "text/plain": [
       "array([ 1. , -0.5])"
      ]
     },
     "execution_count": 48,
     "metadata": {},
     "output_type": "execute_result"
    }
   ],
   "source": [
    "numpy.linalg.solve(a, b)"
   ]
  },
  {
   "cell_type": "markdown",
   "id": "55eefa5f",
   "metadata": {},
   "source": [
    "# inverse"
   ]
  },
  {
   "cell_type": "code",
   "execution_count": 49,
   "id": "6f2b441b",
   "metadata": {},
   "outputs": [
    {
     "data": {
      "text/plain": [
       "array([[-2. ,  1. ],\n",
       "       [ 1.5, -0.5]])"
      ]
     },
     "execution_count": 49,
     "metadata": {},
     "output_type": "execute_result"
    }
   ],
   "source": [
    "numpy.linalg.inv(a)"
   ]
  },
  {
   "cell_type": "markdown",
   "id": "3cee813a",
   "metadata": {},
   "source": [
    "# solve linear matrix equation with inverse"
   ]
  },
  {
   "cell_type": "code",
   "execution_count": 50,
   "id": "a6ac6f4d",
   "metadata": {},
   "outputs": [
    {
     "data": {
      "text/plain": [
       "array([ 1. , -0.5])"
      ]
     },
     "execution_count": 50,
     "metadata": {},
     "output_type": "execute_result"
    }
   ],
   "source": [
    "numpy.inner(numpy.linalg.inv(a),b)"
   ]
  },
  {
   "cell_type": "code",
   "execution_count": null,
   "id": "b959088d",
   "metadata": {},
   "outputs": [],
   "source": []
  }
 ],
 "metadata": {
  "kernelspec": {
   "display_name": "Python 3",
   "language": "python",
   "name": "python3"
  },
  "language_info": {
   "codemirror_mode": {
    "name": "ipython",
    "version": 3
   },
   "file_extension": ".py",
   "mimetype": "text/x-python",
   "name": "python",
   "nbconvert_exporter": "python",
   "pygments_lexer": "ipython3",
   "version": "3.9.4"
  }
 },
 "nbformat": 4,
 "nbformat_minor": 5
}
