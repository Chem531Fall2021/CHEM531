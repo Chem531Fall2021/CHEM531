{
 "cells": [
  {
   "cell_type": "markdown",
   "id": "4a41807c",
   "metadata": {},
   "source": [
    "# Variable"
   ]
  },
  {
   "cell_type": "code",
   "execution_count": 1,
   "id": "37e4d903",
   "metadata": {},
   "outputs": [],
   "source": [
    "x=2"
   ]
  },
  {
   "cell_type": "code",
   "execution_count": 3,
   "id": "2e5ca64d",
   "metadata": {},
   "outputs": [
    {
     "name": "stdout",
     "output_type": "stream",
     "text": [
      "Variable x = 2\n"
     ]
    }
   ],
   "source": [
    "print(\"Variable x =\", x)"
   ]
  },
  {
   "cell_type": "markdown",
   "id": "83c5802e",
   "metadata": {},
   "source": [
    "# numeric module"
   ]
  },
  {
   "cell_type": "code",
   "execution_count": 4,
   "id": "6a419eae",
   "metadata": {},
   "outputs": [],
   "source": [
    "import numpy "
   ]
  },
  {
   "cell_type": "code",
   "execution_count": 24,
   "id": "2e9cb723",
   "metadata": {},
   "outputs": [],
   "source": [
    "b=numpy.array([0, 1])"
   ]
  },
  {
   "cell_type": "code",
   "execution_count": 25,
   "id": "b8f0c882",
   "metadata": {},
   "outputs": [
    {
     "data": {
      "text/plain": [
       "array([0, 1])"
      ]
     },
     "execution_count": 25,
     "metadata": {},
     "output_type": "execute_result"
    }
   ],
   "source": [
    "b"
   ]
  },
  {
   "cell_type": "markdown",
   "id": "6eabf9de",
   "metadata": {},
   "source": [
    "# matrix"
   ]
  },
  {
   "cell_type": "code",
   "execution_count": 26,
   "id": "f1cf4aa3",
   "metadata": {},
   "outputs": [],
   "source": [
    "a=numpy.array([[1, 2], [3,4]])"
   ]
  },
  {
   "cell_type": "code",
   "execution_count": 27,
   "id": "0d927539",
   "metadata": {},
   "outputs": [
    {
     "name": "stdout",
     "output_type": "stream",
     "text": [
      "[[1 2]\n",
      " [3 4]]\n"
     ]
    }
   ],
   "source": [
    "print(a)"
   ]
  },
  {
   "cell_type": "markdown",
   "id": "1f9508e0",
   "metadata": {},
   "source": [
    "# multiply "
   ]
  },
  {
   "cell_type": "code",
   "execution_count": 33,
   "id": "68a2ef8d",
   "metadata": {},
   "outputs": [
    {
     "data": {
      "text/plain": [
       "array([2, 4])"
      ]
     },
     "execution_count": 33,
     "metadata": {},
     "output_type": "execute_result"
    }
   ],
   "source": [
    "numpy.inner(a,b.T)"
   ]
  },
  {
   "cell_type": "markdown",
   "id": "0cb1cf8f",
   "metadata": {},
   "source": [
    "# solve linear matrix equation"
   ]
  },
  {
   "cell_type": "code",
   "execution_count": 48,
   "id": "930327e2",
   "metadata": {},
   "outputs": [
    {
     "data": {
      "text/plain": [
       "array([ 1. , -0.5])"
      ]
     },
     "execution_count": 48,
     "metadata": {},
     "output_type": "execute_result"
    }
   ],
   "source": [
    "numpy.linalg.solve(a, b)"
   ]
  },
  {
   "cell_type": "markdown",
   "id": "ca7854d7",
   "metadata": {},
   "source": [
    "# inverse"
   ]
  },
  {
   "cell_type": "code",
   "execution_count": 49,
   "id": "b2dbabb5",
   "metadata": {},
   "outputs": [
    {
     "data": {
      "text/plain": [
       "array([[-2. ,  1. ],\n",
       "       [ 1.5, -0.5]])"
      ]
     },
     "execution_count": 49,
     "metadata": {},
     "output_type": "execute_result"
    }
   ],
   "source": [
    "numpy.linalg.inv(a)"
   ]
  },
  {
   "cell_type": "markdown",
   "id": "94857035",
   "metadata": {},
   "source": [
    "# solve linear matrix equation with inverse"
   ]
  },
  {
   "cell_type": "code",
   "execution_count": 50,
   "id": "5adf800d",
   "metadata": {},
   "outputs": [
    {
     "data": {
      "text/plain": [
       "array([ 1. , -0.5])"
      ]
     },
     "execution_count": 50,
     "metadata": {},
     "output_type": "execute_result"
    }
   ],
   "source": [
    "numpy.inner(numpy.linalg.inv(a),b)"
   ]
  },
  {
   "cell_type": "markdown",
   "id": "b68a3dd4",
   "metadata": {},
   "source": [
    "# matplotlib"
   ]
  },
  {
   "cell_type": "code",
   "execution_count": 56,
   "id": "227921b5",
   "metadata": {},
   "outputs": [],
   "source": [
    "import matplotlib.pyplot as plt"
   ]
  },
  {
   "cell_type": "code",
   "execution_count": 57,
   "id": "1a530745",
   "metadata": {},
   "outputs": [],
   "source": [
    "x=numpy.array([1,2,3])"
   ]
  },
  {
   "cell_type": "code",
   "execution_count": 58,
   "id": "59d6e68c",
   "metadata": {},
   "outputs": [],
   "source": [
    "y=numpy.array([4,5,6])"
   ]
  },
  {
   "cell_type": "code",
   "execution_count": 59,
   "id": "97043ab7",
   "metadata": {},
   "outputs": [
    {
     "data": {
      "text/plain": [
       "Text(0, 0.5, 'y values')"
      ]
     },
     "execution_count": 59,
     "metadata": {},
     "output_type": "execute_result"
    },
    {
     "data": {
      "image/png": "[encoded data removed]",
      "text/plain": [
       "<Figure size 432x288 with 1 Axes>"
      ]
     },
     "metadata": {
      "needs_background": "light"
     },
     "output_type": "display_data"
    }
   ],
   "source": [
    "plt.scatter(x,y)\n",
    "plt.xlabel('x values')\n",
    "plt.ylabel('y values')\n"
   ]
  },
  {
   "cell_type": "code",
   "execution_count": null,
   "id": "36950ad9",
   "metadata": {},
   "outputs": [],
   "source": []
  }
 ],
 "metadata": {
  "kernelspec": {
   "display_name": "Python 3",
   "language": "python",
   "name": "python3"
  },
  "language_info": {
   "codemirror_mode": {
    "name": "ipython",
    "version": 3
   },
   "file_extension": ".py",
   "mimetype": "text/x-python",
   "name": "python",
   "nbconvert_exporter": "python",
   "pygments_lexer": "ipython3",
   "version": "3.9.4"
  }
 },
 "nbformat": 4,
 "nbformat_minor": 5
}
